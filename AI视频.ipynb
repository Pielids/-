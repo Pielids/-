{
 "cells": [
  {
   "cell_type": "code",
   "execution_count": 19,
   "id": "ab5a221e-d26b-4756-a83c-5247dc931e3e",
   "metadata": {},
   "outputs": [
    {
     "name": "stdout",
     "output_type": "stream",
     "text": [
      "VideoObject(id='10711732692028825-9202948504770756586', model='cogvideox', video_result=None, task_status='PROCESSING', request_id='-9202948504770756587')\n"
     ]
    }
   ],
   "source": [
    "from zhipuai import ZhipuAI\n",
    "client = ZhipuAI(api_key=\"45b9d062251e86e6bf4a2a14023b9243.iae8zKzjK68E02gu\") # 请填写您自己的APIKey\n",
    "\n",
    "response = client.videos.generations(\n",
    "    model=\"cogvideox\",\n",
    "    prompt=\"权顺荣开小汽车，游走在马路上，脸上的表情洋洋得意。\"\n",
    ")\n",
    "print(response)"
   ]
  },
  {
   "cell_type": "code",
   "execution_count": 4,
   "id": "9d2af7bd-17f0-4ce2-b96a-68b880dfc9b9",
   "metadata": {},
   "outputs": [
    {
     "name": "stdout",
     "output_type": "stream",
     "text": [
      "Looking in indexes: https://mirrors.cloud.tencent.com/pypi/simple\n",
      "Requirement already satisfied: zhipuai in d:\\anaconda\\lib\\site-packages (2.1.5.20230904)\n",
      "Requirement already satisfied: cachetools>=4.2.2 in d:\\anaconda\\lib\\site-packages (from zhipuai) (4.2.2)\n",
      "Requirement already satisfied: httpx>=0.23.0 in d:\\anaconda\\lib\\site-packages (from zhipuai) (0.27.2)\n",
      "Requirement already satisfied: pydantic<3.0,>=1.9.0 in d:\\anaconda\\lib\\site-packages (from zhipuai) (1.10.12)\n",
      "Requirement already satisfied: pydantic-core>=2.14.6 in d:\\anaconda\\lib\\site-packages (from zhipuai) (2.27.1)\n",
      "Requirement already satisfied: pyjwt<2.9.0,>=2.8.0 in d:\\anaconda\\lib\\site-packages (from zhipuai) (2.8.0)\n",
      "Requirement already satisfied: anyio in d:\\anaconda\\lib\\site-packages (from httpx>=0.23.0->zhipuai) (4.2.0)\n",
      "Requirement already satisfied: certifi in d:\\anaconda\\lib\\site-packages (from httpx>=0.23.0->zhipuai) (2024.2.2)\n",
      "Requirement already satisfied: httpcore==1.* in d:\\anaconda\\lib\\site-packages (from httpx>=0.23.0->zhipuai) (1.0.7)\n",
      "Requirement already satisfied: idna in d:\\anaconda\\lib\\site-packages (from httpx>=0.23.0->zhipuai) (3.4)\n",
      "Requirement already satisfied: sniffio in d:\\anaconda\\lib\\site-packages (from httpx>=0.23.0->zhipuai) (1.3.0)\n",
      "Requirement already satisfied: h11<0.15,>=0.13 in d:\\anaconda\\lib\\site-packages (from httpcore==1.*->httpx>=0.23.0->zhipuai) (0.14.0)\n",
      "Requirement already satisfied: typing-extensions>=4.2.0 in d:\\anaconda\\lib\\site-packages (from pydantic<3.0,>=1.9.0->zhipuai) (4.9.0)\n",
      "Note: you may need to restart the kernel to use updated packages.\n"
     ]
    }
   ],
   "source": [
    "pip install --upgrade zhipuai"
   ]
  },
  {
   "cell_type": "code",
   "execution_count": 24,
   "id": "85eaafa1-c796-4ea2-8804-b7009a6e8f69",
   "metadata": {},
   "outputs": [
    {
     "name": "stdout",
     "output_type": "stream",
     "text": [
      "VideoObject(id=None, model='cogvideox', video_result=[VideoResult(url='https://aigc-files.bigmodel.cn/api/cogvideo/1782e474-acab-11ef-a354-628f45da38f5_0.mp4', cover_image_url='https://aigc-files.bigmodel.cn/api/cogvideo/1782e474-acab-11ef-a354-628f45da38f5_cover_0.jpeg')], task_status='SUCCESS', request_id='-9202948504770756587')\n"
     ]
    }
   ],
   "source": [
    "from zhipuai import ZhipuAI\n",
    "client = ZhipuAI(api_key=\"45b9d062251e86e6bf4a2a14023b9243.iae8zKzjK68E02gu\") # 请填写您自己的APIKey\n",
    "\n",
    "response = client.videos.retrieve_videos_result(\n",
    "    id=\"10711732692028825-9202948504770756586\"\n",
    ")\n",
    "print(response)"
   ]
  },
  {
   "cell_type": "code",
   "execution_count": null,
   "id": "fcb0f890-f7ad-4157-a021-7bbcf9b51507",
   "metadata": {},
   "outputs": [],
   "source": []
  },
  {
   "cell_type": "code",
   "execution_count": null,
   "id": "472600aa-1905-4060-99c5-db6f770b338a",
   "metadata": {},
   "outputs": [],
   "source": []
  }
 ],
 "metadata": {
  "kernelspec": {
   "display_name": "Python 3 (ipykernel)",
   "language": "python",
   "name": "python3"
  },
  "language_info": {
   "codemirror_mode": {
    "name": "ipython",
    "version": 3
   },
   "file_extension": ".py",
   "mimetype": "text/x-python",
   "name": "python",
   "nbconvert_exporter": "python",
   "pygments_lexer": "ipython3",
   "version": "3.11.7"
  }
 },
 "nbformat": 4,
 "nbformat_minor": 5
}
