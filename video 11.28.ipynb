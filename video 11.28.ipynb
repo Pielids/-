{
 "cells": [
  {
   "cell_type": "code",
   "execution_count": 20,
   "id": "f2ac9e1b-ad75-4f53-bdc4-49dad09f3392",
   "metadata": {},
   "outputs": [
    {
     "name": "stdout",
     "output_type": "stream",
     "text": [
      "VideoObject(id='10711732692028825-9202946340106061566', model='cogvideox', video_result=None, task_status='PROCESSING', request_id='-9202946340106061568')\n"
     ]
    }
   ],
   "source": [
    "from zhipuai import ZhipuAI\n",
    "client = ZhipuAI(api_key=\"45b9d062251e86e6bf4a2a14023b9243.iae8zKzjK68E02gu\") # 请填写您自己的APIKey\n",
    "\n",
    "response = client.videos.generations(\n",
    "    model=\"cogvideox\",\n",
    "    image_url='https://c-ssl.dtstatic.com/uploads/item/201912/01/20191201171458_xfkwb.thumb.400_0.jpg',\n",
    "    prompt=\"比得兔，拿着萝卜在草地上，脸上的表情充满开心喜悦。\"\n",
    ")\n",
    "print(response)"
   ]
  },
  {
   "cell_type": "code",
   "execution_count": 26,
   "id": "fac94552-d61c-421b-bba7-e686dd5e7315",
   "metadata": {},
   "outputs": [
    {
     "name": "stdout",
     "output_type": "stream",
     "text": [
      "VideoObject(id=None, model='cogvideox', video_result=[VideoResult(url='https://aigc-files.bigmodel.cn/api/cogvideo/abe5d87e-ad2d-11ef-aac5-72334138196c_0.mp4', cover_image_url='https://aigc-files.bigmodel.cn/api/cogvideo/abe5d87e-ad2d-11ef-aac5-72334138196c_cover_0.jpeg')], task_status='SUCCESS', request_id='-9202946340106061568')\n"
     ]
    }
   ],
   "source": [
    "from zhipuai import ZhipuAI\n",
    "client = ZhipuAI(api_key=\"45b9d062251e86e6bf4a2a14023b9243.iae8zKzjK68E02gu\") # 请填写您自己的APIKey\n",
    "\n",
    "response = client.videos.retrieve_videos_result(\n",
    "    id=\"10711732692028825-9202946340106061566\"\n",
    ")\n",
    "print(response)"
   ]
  },
  {
   "cell_type": "code",
   "execution_count": 25,
   "id": "e39fddbf-b128-40c2-ae7e-92b32a8aa81e",
   "metadata": {},
   "outputs": [],
   "source": [
    "import os\n",
    "from zhipuai import ZhipuAI\n",
    "import base64\n",
    "\n",
    "os.environ[\"ZHIPUAI_API_KEY\"] = \"45b9d062251e86e6bf4a2a14023b9243.iae8zKzjK68E02gu\"\n",
    "\n",
    "client = ZhipuAI()"
   ]
  },
  {
   "cell_type": "code",
   "execution_count": 33,
   "id": "aa076779-0651-42d3-8d6c-63c2e6cecdcc",
   "metadata": {},
   "outputs": [
    {
     "name": "stdout",
     "output_type": "stream",
     "text": [
      "\n",
      "CompletionMessage(content='一只兔子从画面左侧进入，它双手张开，面带微笑。接着它抬起左脚，左手放在胸前，右手向上举起，然后放下左脚，双手在身体两侧摆动。随后兔子再次抬起左脚，左手放在胸前，右手向上举起，同时嘴里叼着一根胡萝卜。背景是一片草地。', role='assistant', tool_calls=None)\n"
     ]
    }
   ],
   "source": [
    "video_path = \"1.mp4\"\n",
    "with open(video_path, 'rb') as video_file:\n",
    "    video_base = base64.b64encode(video_file.read()).decode('utf-8')\n",
    "\n",
    "print(\"\")\n",
    "    \n",
    "    \n",
    "response = client.chat.completions.create(\n",
    "    model=\"glm-4v-plus\",  # 填写需要调用的模型名称\n",
    "    temperature=0.0,\n",
    "    top_p=0,\n",
    "    \n",
    "    messages=[\n",
    "      {\n",
    "        \"role\": \"user\",\n",
    "        \"content\": [\n",
    "          {\n",
    "            \"type\": \"video_url\",\n",
    "            \"video_url\": {\n",
    "                \"url\" : video_base\n",
    "            }\n",
    "          },\n",
    "          {\n",
    "            \"type\": \"text\",\n",
    "            \"text\": \"请仔细描述这个视频\"\n",
    "          }\n",
    "        ]\n",
    "      }\n",
    "    ]\n",
    ")\n",
    "print(response.choices[0].message)"
   ]
  },
  {
   "cell_type": "code",
   "execution_count": null,
   "id": "3d16fac0-46d3-41dd-b13a-64202c0b2b49",
   "metadata": {},
   "outputs": [],
   "source": []
  }
 ],
 "metadata": {
  "kernelspec": {
   "display_name": "Python 3 (ipykernel)",
   "language": "python",
   "name": "python3"
  },
  "language_info": {
   "codemirror_mode": {
    "name": "ipython",
    "version": 3
   },
   "file_extension": ".py",
   "mimetype": "text/x-python",
   "name": "python",
   "nbconvert_exporter": "python",
   "pygments_lexer": "ipython3",
   "version": "3.9.7"
  }
 },
 "nbformat": 4,
 "nbformat_minor": 5
}
